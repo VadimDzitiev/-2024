{
 "cells": [
  {
   "cell_type": "code",
   "execution_count": 1,
   "metadata": {},
   "outputs": [],
   "source": [
    "import numpy as np\n",
    "import pandas as pd\n",
    "import seaborn as sns\n",
    "import matplotlib.pyplot as plt\n",
    "%matplotlib inline \n",
    "sns.set(style=\"ticks\")"
   ]
  },
  {
   "cell_type": "code",
   "execution_count": 59,
   "metadata": {},
   "outputs": [],
   "source": [
    "df = pd.read_csv('C:/Users/vdzit/Desktop/NBA_player_of_the_week.csv', sep=\",\")"
   ]
  },
  {
   "cell_type": "code",
   "execution_count": null,
   "metadata": {},
   "outputs": [],
   "source": [
    "df"
   ]
  },
  {
   "cell_type": "code",
   "execution_count": 56,
   "metadata": {},
   "outputs": [
    {
     "name": "stdout",
     "output_type": "stream",
     "text": [
      "['SG' 'F' 'FC' 'SF' 'C' 'G' 'PF' 'GF' 'PG' 'G-F' 'F-C']\n"
     ]
    }
   ],
   "source": [
    "a = df['Position'].unique()\n",
    "print(a)\n"
   ]
  },
  {
   "cell_type": "code",
   "execution_count": 7,
   "metadata": {},
   "outputs": [
    {
     "data": {
      "text/plain": [
       "(1344, 17)"
      ]
     },
     "execution_count": 7,
     "metadata": {},
     "output_type": "execute_result"
    }
   ],
   "source": [
    "df.shape"
   ]
  },
  {
   "cell_type": "code",
   "execution_count": null,
   "metadata": {},
   "outputs": [],
   "source": [
    "df.dtypes"
   ]
  },
  {
   "cell_type": "markdown",
   "metadata": {},
   "source": [
    "### Удаление строк, содержащих пропуски данных"
   ]
  },
  {
   "cell_type": "code",
   "execution_count": 9,
   "metadata": {},
   "outputs": [],
   "source": [
    "#Простое удаление строк\n",
    "df1 = df.mask(np.random.random(df.shape) < 0.02)\n",
    "df1 = df1.dropna(axis=1, how='any')"
   ]
  },
  {
   "cell_type": "code",
   "execution_count": null,
   "metadata": {},
   "outputs": [],
   "source": [
    "#Заполнение всех пустых значений нулями\n",
    "df2 = df.mask(np.random.random(df.shape) < 0.02)\n",
    "df2 = df2.fillna(0)"
   ]
  },
  {
   "cell_type": "markdown",
   "metadata": {},
   "source": [
    "#### Кодирование категориальных признаков"
   ]
  },
  {
   "cell_type": "code",
   "execution_count": null,
   "metadata": {},
   "outputs": [],
   "source": [
    "cat_enc = pd.DataFrame({'Team':df['Team']})\n",
    "cat_enc"
   ]
  },
  {
   "cell_type": "code",
   "execution_count": null,
   "metadata": {},
   "outputs": [],
   "source": [
    "conferences = ['West', 'East']"
   ]
  },
  {
   "cell_type": "code",
   "execution_count": 62,
   "metadata": {},
   "outputs": [],
   "source": [
    "df3 = df.copy()\n",
    "df3['Conference_code'] = df3['Conference'].map({'West':1,'East':2})\n",
    "df3['Conference_decode'] = df3['Conference_code'].map({1:'West',2:'East'})\n",
    "df3.pop('Conference')\n",
    "\n",
    "temp_columns = df3[['Conference_code', 'Conference_decode']]\n",
    "\n",
    "df3 = df3.drop(columns=['Conference_code', 'Conference_decode'])\n",
    "\n",
    "# Вставляем их обратно на нужную позицию\n",
    "df3.insert(2, 'Conference_code', temp_columns['Conference_code'])\n",
    "df3.insert(3, 'Conference_decode', temp_columns['Conference_decode'])\n",
    "\n",
    "\n",
    "df3['Position_code'] = df3['Position'].map({'SG':2, 'F':3, 'FC':4, 'SF':3, 'C':5, 'G':1, 'PF':4, 'GF':3, 'PG':2, 'G-F':3, 'F-C':4})\n",
    "df3['Position_decode'] = df3['Position_code'].map({2:'SG', 3:'F', 4:'FC', 3:'SF', 5:'C', 1:'G', 4:'PF', 3:'GF', 2:'PG', 3:'G-F', 4:'F-C'})\n",
    "df3.pop('Position')\n",
    "\n",
    "temp_columns = df3[['Position_code','Position_decode']]\n",
    "\n",
    "df3 = df3.drop(columns = ['Position_code', 'Position_decode'])\n",
    "\n",
    "df3.insert(5, 'Position_code', temp_columns['Position_code'])\n",
    "df3.insert(6, 'Position_decode', temp_columns['Position_decode'])\n"
   ]
  },
  {
   "cell_type": "code",
   "execution_count": null,
   "metadata": {},
   "outputs": [],
   "source": [
    "df3"
   ]
  },
  {
   "cell_type": "code",
   "execution_count": 64,
   "metadata": {},
   "outputs": [],
   "source": [
    "from sklearn.preprocessing import MinMaxScaler, StandardScaler, Normalizer"
   ]
  },
  {
   "cell_type": "code",
   "execution_count": 66,
   "metadata": {},
   "outputs": [],
   "source": [
    "sc1 = MinMaxScaler()\n",
    "sc1_data = sc1.fit_transform(df3[['Weight']])"
   ]
  },
  {
   "cell_type": "code",
   "execution_count": 67,
   "metadata": {},
   "outputs": [
    {
     "data": {
      "image/png": "[encoded data removed]",
      "text/plain": [
       "<Figure size 640x480 with 1 Axes>"
      ]
     },
     "metadata": {},
     "output_type": "display_data"
    }
   ],
   "source": [
    "plt.hist(df3['Weight'], 50)\n",
    "plt.show()"
   ]
  },
  {
   "cell_type": "code",
   "execution_count": 70,
   "metadata": {},
   "outputs": [],
   "source": [
    "sc2 = StandardScaler()\n",
    "sc2_data = sc2.fit_transform(df3[['Weight']])"
   ]
  },
  {
   "cell_type": "code",
   "execution_count": 71,
   "metadata": {},
   "outputs": [
    {
     "data": {
      "image/png": "[encoded data removed]",
      "text/plain": [
       "<Figure size 640x480 with 1 Axes>"
      ]
     },
     "metadata": {},
     "output_type": "display_data"
    }
   ],
   "source": [
    "plt.hist(sc2_data, 50)\n",
    "plt.show()"
   ]
  }
 ],
 "metadata": {
  "kernelspec": {
   "display_name": "Python 3",
   "language": "python",
   "name": "python3"
  },
  "language_info": {
   "codemirror_mode": {
    "name": "ipython",
    "version": 3
   },
   "file_extension": ".py",
   "mimetype": "text/x-python",
   "name": "python",
   "nbconvert_exporter": "python",
   "pygments_lexer": "ipython3",
   "version": "3.10.11"
  }
 },
 "nbformat": 4,
 "nbformat_minor": 2
}
