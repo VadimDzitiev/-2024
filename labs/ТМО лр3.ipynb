{
 "cells": [
  {
   "cell_type": "code",
   "execution_count": 2,
   "metadata": {},
   "outputs": [],
   "source": [
    "from sklearn.datasets import load_iris\n",
    "from sklearn.model_selection import train_test_split, GridSearchCV, RandomizedSearchCV, cross_val_score\n",
    "from sklearn.neighbors import KNeighborsClassifier\n",
    "from sklearn.metrics import accuracy_score, classification_report\n",
    "import pandas as pd\n",
    "\n",
    "\n",
    "df = pd.read_csv('C:/Users/vdzit/Desktop/adult.csv', sep=\",\")"
   ]
  },
  {
   "cell_type": "code",
   "execution_count": 3,
   "metadata": {},
   "outputs": [],
   "source": [
    "from sklearn.preprocessing import LabelEncoder\n",
    "\n",
    "categorical_columns = ['workclass', 'marital-status', 'occupation', 'relationship', 'race', 'gender', 'native-country', 'education']\n",
    "le = LabelEncoder()\n",
    "\n",
    "for col in categorical_columns:\n",
    "    df[col] = le.fit_transform(df[col])\n"
   ]
  },
  {
   "cell_type": "code",
   "execution_count": 4,
   "metadata": {},
   "outputs": [],
   "source": [
    "X = df.drop('income', axis=1)  \n",
    "y = df['income']"
   ]
  },
  {
   "cell_type": "code",
   "execution_count": 13,
   "metadata": {},
   "outputs": [],
   "source": [
    "X_train, X_test, y_train, y_test = train_test_split(X, y, test_size=0.2, random_state=42)"
   ]
  },
  {
   "cell_type": "code",
   "execution_count": 14,
   "metadata": {},
   "outputs": [],
   "source": [
    "knn_base = KNeighborsClassifier()\n",
    "\n",
    "# Определим набор гиперпараметров для GridSearchCV\n",
    "param_grid = {'n_neighbors': range(1, 31)}  # Попробуем значения K от 1 до 30\n",
    "\n",
    "# Создадим объект GridSearchCV\n",
    "grid_search = GridSearchCV(knn_base, param_grid, cv=5, scoring='accuracy')\n"
   ]
  },
  {
   "cell_type": "code",
   "execution_count": 15,
   "metadata": {},
   "outputs": [
    {
     "name": "stdout",
     "output_type": "stream",
     "text": [
      "Наилучшие параметры для GridSearchCV: {'n_neighbors': 25}\n"
     ]
    }
   ],
   "source": [
    "\n",
    "# Обучим модель с использованием GridSearchCV\n",
    "grid_search.fit(X_train, y_train)\n",
    "\n",
    "# Выведем наилучшие параметры\n",
    "print(\"Наилучшие параметры для GridSearchCV:\", grid_search.best_params_)\n"
   ]
  },
  {
   "cell_type": "code",
   "execution_count": 16,
   "metadata": {},
   "outputs": [
    {
     "name": "stdout",
     "output_type": "stream",
     "text": [
      "Accuracy на тестовом наборе данных с использованием GridSearchCV: 0.8063261336881974\n",
      "Отчет о классификации на тестовом наборе данных с использованием GridSearchCV:\n",
      "              precision    recall  f1-score   support\n",
      "\n",
      "       <=50K       0.81      0.99      0.89      7479\n",
      "        >50K       0.82      0.22      0.35      2290\n",
      "\n",
      "    accuracy                           0.81      9769\n",
      "   macro avg       0.81      0.60      0.62      9769\n",
      "weighted avg       0.81      0.81      0.76      9769\n",
      "\n"
     ]
    }
   ],
   "source": [
    "\n",
    "# Оценим качество модели с наилучшими параметрами на тестовом наборе данных\n",
    "y_pred_grid = grid_search.predict(X_test)\n",
    "print(\"Accuracy на тестовом наборе данных с использованием GridSearchCV:\", accuracy_score(y_test, y_pred_grid))\n",
    "print(\"Отчет о классификации на тестовом наборе данных с использованием GridSearchCV:\")\n",
    "print(classification_report(y_test, y_pred_grid))"
   ]
  },
  {
   "cell_type": "code",
   "execution_count": 17,
   "metadata": {},
   "outputs": [
    {
     "name": "stdout",
     "output_type": "stream",
     "text": [
      "\n",
      "Наилучшие параметры для RandomizedSearchCV: {'n_neighbors': 25}\n"
     ]
    }
   ],
   "source": [
    "\n",
    "# Проведем поиск по сетке с использованием RandomizedSearchCV\n",
    "randomized_search = RandomizedSearchCV(knn_base, param_distributions=param_grid, n_iter=10, cv=5, scoring='accuracy', random_state=42)\n",
    "\n",
    "# Обучим модель с использованием RandomizedSearchCV\n",
    "randomized_search.fit(X_train, y_train)\n",
    "\n",
    "# Выведем наилучшие параметры\n",
    "print(\"\\nНаилучшие параметры для RandomizedSearchCV:\", randomized_search.best_params_)"
   ]
  },
  {
   "cell_type": "code",
   "execution_count": 18,
   "metadata": {},
   "outputs": [
    {
     "name": "stdout",
     "output_type": "stream",
     "text": [
      "Accuracy на тестовом наборе данных с использованием RandomizedSearchCV: 0.8063261336881974\n",
      "Отчет о классификации на тестовом наборе данных с использованием RandomizedSearchCV:\n",
      "              precision    recall  f1-score   support\n",
      "\n",
      "       <=50K       0.81      0.99      0.89      7479\n",
      "        >50K       0.82      0.22      0.35      2290\n",
      "\n",
      "    accuracy                           0.81      9769\n",
      "   macro avg       0.81      0.60      0.62      9769\n",
      "weighted avg       0.81      0.81      0.76      9769\n",
      "\n"
     ]
    }
   ],
   "source": [
    "# Оценим качество модели с наилучшими параметрами на тестовом наборе данных\n",
    "y_pred_random = randomized_search.predict(X_test)\n",
    "print(\"Accuracy на тестовом наборе данных с использованием RandomizedSearchCV:\", accuracy_score(y_test, y_pred_random))\n",
    "print(\"Отчет о классификации на тестовом наборе данных с использованием RandomizedSearchCV:\")\n",
    "print(classification_report(y_test, y_pred_random))"
   ]
  },
  {
   "cell_type": "markdown",
   "metadata": {},
   "source": [
    "cross_val"
   ]
  },
  {
   "cell_type": "code",
   "execution_count": 19,
   "metadata": {},
   "outputs": [
    {
     "name": "stdout",
     "output_type": "stream",
     "text": [
      "\n",
      "Средняя точность базовой модели (без настройки параметров): 0.7764220340814669\n",
      "Средняя точность модели с наилучшими параметрами GridSearchCV: 0.8009910023089469\n",
      "Средняя точность модели с наилучшими параметрами RandomizedSearchCV: 0.8009910023089469\n"
     ]
    }
   ],
   "source": [
    "# Сравним метрики качества исходной и оптимальной моделей с использованием кросс-валидации\n",
    "\n",
    "from sklearn.model_selection import cross_val_score\n",
    "\n",
    "cv_scores_base = cross_val_score(knn_base, X, y, cv=5)\n",
    "cv_scores_grid = cross_val_score(grid_search.best_estimator_, X, y, cv=5)\n",
    "cv_scores_random = cross_val_score(randomized_search.best_estimator_, X, y, cv=5)\n",
    "\n",
    "print(\"\\nСредняя точность базовой модели (без настройки параметров):\", cv_scores_base.mean())\n",
    "print(\"Средняя точность модели с наилучшими параметрами GridSearchCV:\", cv_scores_grid.mean())\n",
    "print(\"Средняя точность модели с наилучшими параметрами RandomizedSearchCV:\", cv_scores_random.mean())"
   ]
  },
  {
   "cell_type": "markdown",
   "metadata": {},
   "source": [
    "StratifiedKFold\n"
   ]
  },
  {
   "cell_type": "code",
   "execution_count": 20,
   "metadata": {},
   "outputs": [
    {
     "name": "stdout",
     "output_type": "stream",
     "text": [
      "\n",
      "Средняя точность базовой модели (без настройки параметров) с использованием StratifiedKFold: 0.7783669032287109\n",
      "Средняя точность модели с наилучшими параметрами GridSearchCV с использованием StratifiedKFold: 0.800847608000336\n",
      "Средняя точность модели с наилучшими параметрами RandomizedSearchCV с использованием StratifiedKFold: 0.800847608000336\n"
     ]
    }
   ],
   "source": [
    "from sklearn.model_selection import StratifiedKFold\n",
    "\n",
    "# Инициализируем StratifiedKFold с 5 фолдами\n",
    "skf = StratifiedKFold(n_splits=5, shuffle=True, random_state=42)\n",
    "\n",
    "cv_scores_skf_base = cross_val_score(knn_base, X, y, cv=skf)\n",
    "cv_scores_skf_grid = cross_val_score(grid_search.best_estimator_, X, y, cv=skf)\n",
    "cv_scores_skf_random = cross_val_score(randomized_search.best_estimator_, X, y, cv=skf)\n",
    "\n",
    "print(\"\\nСредняя точность базовой модели (без настройки параметров) с использованием StratifiedKFold:\", cv_scores_skf_base.mean())\n",
    "print(\"Средняя точность модели с наилучшими параметрами GridSearchCV с использованием StratifiedKFold:\", cv_scores_skf_grid.mean())\n",
    "print(\"Средняя точность модели с наилучшими параметрами RandomizedSearchCV с использованием StratifiedKFold:\", cv_scores_skf_random.mean())\n"
   ]
  }
 ],
 "metadata": {
  "kernelspec": {
   "display_name": "tvenv",
   "language": "python",
   "name": "python3"
  },
  "language_info": {
   "codemirror_mode": {
    "name": "ipython",
    "version": 3
   },
   "file_extension": ".py",
   "mimetype": "text/x-python",
   "name": "python",
   "nbconvert_exporter": "python",
   "pygments_lexer": "ipython3",
   "version": "3.10.11"
  }
 },
 "nbformat": 4,
 "nbformat_minor": 2
}
